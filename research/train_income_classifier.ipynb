{
 "cells": [
  {
   "cell_type": "code",
   "execution_count": 1,
   "metadata": {},
   "outputs": [],
   "source": [
    "import json # will be needed for saving preprocessing details\n",
    "import numpy as np # for data manipulation\n",
    "import pandas as pd # for data manipulation\n",
    "from sklearn.model_selection import train_test_split # will be used for data split\n",
    "from sklearn.preprocessing import LabelEncoder # for preprocessing\n",
    "from sklearn.ensemble import RandomForestClassifier # for training the algorithm\n",
    "from sklearn.ensemble import ExtraTreesClassifier # for training the algorithm\n",
    "import joblib # for saving algorithm and preprocessing objects"
   ]
  },
  {
   "cell_type": "code",
   "execution_count": 3,
   "metadata": {},
   "outputs": [
    {
     "data": {
      "text/html": [
       "<div>\n",
       "<style scoped>\n",
       "    .dataframe tbody tr th:only-of-type {\n",
       "        vertical-align: middle;\n",
       "    }\n",
       "\n",
       "    .dataframe tbody tr th {\n",
       "        vertical-align: top;\n",
       "    }\n",
       "\n",
       "    .dataframe thead th {\n",
       "        text-align: right;\n",
       "    }\n",
       "</style>\n",
       "<table border=\"1\" class=\"dataframe\">\n",
       "  <thead>\n",
       "    <tr style=\"text-align: right;\">\n",
       "      <th></th>\n",
       "      <th>HouseNumber</th>\n",
       "      <th>MSSubClass</th>\n",
       "      <th>MSZoning</th>\n",
       "      <th>LotFrontage</th>\n",
       "      <th>LotArea</th>\n",
       "      <th>LotShape</th>\n",
       "      <th>LotConfig</th>\n",
       "      <th>Neighborhood</th>\n",
       "      <th>SalePrice</th>\n",
       "      <th>SalePriceN</th>\n",
       "    </tr>\n",
       "  </thead>\n",
       "  <tbody>\n",
       "    <tr>\n",
       "      <th>0</th>\n",
       "      <td>1.0</td>\n",
       "      <td>60.0</td>\n",
       "      <td>RL</td>\n",
       "      <td>65.0</td>\n",
       "      <td>8450.0</td>\n",
       "      <td>Reg</td>\n",
       "      <td>Inside</td>\n",
       "      <td>MeadowV</td>\n",
       "      <td>91000</td>\n",
       "      <td>&lt;150k</td>\n",
       "    </tr>\n",
       "    <tr>\n",
       "      <th>1</th>\n",
       "      <td>2.0</td>\n",
       "      <td>20.0</td>\n",
       "      <td>RL</td>\n",
       "      <td>80.0</td>\n",
       "      <td>9600.0</td>\n",
       "      <td>IR1</td>\n",
       "      <td>Inside</td>\n",
       "      <td>NAmes</td>\n",
       "      <td>135750</td>\n",
       "      <td>&lt;150k</td>\n",
       "    </tr>\n",
       "    <tr>\n",
       "      <th>2</th>\n",
       "      <td>3.0</td>\n",
       "      <td>60.0</td>\n",
       "      <td>RL</td>\n",
       "      <td>68.0</td>\n",
       "      <td>11250.0</td>\n",
       "      <td>Reg</td>\n",
       "      <td>Inside</td>\n",
       "      <td>BrkSide</td>\n",
       "      <td>127000</td>\n",
       "      <td>&lt;150k</td>\n",
       "    </tr>\n",
       "    <tr>\n",
       "      <th>3</th>\n",
       "      <td>4.0</td>\n",
       "      <td>70.0</td>\n",
       "      <td>RL</td>\n",
       "      <td>60.0</td>\n",
       "      <td>9550.0</td>\n",
       "      <td>Reg</td>\n",
       "      <td>Inside</td>\n",
       "      <td>Sawyer</td>\n",
       "      <td>136500</td>\n",
       "      <td>&lt;150k</td>\n",
       "    </tr>\n",
       "    <tr>\n",
       "      <th>4</th>\n",
       "      <td>5.0</td>\n",
       "      <td>60.0</td>\n",
       "      <td>RL</td>\n",
       "      <td>84.0</td>\n",
       "      <td>14260.0</td>\n",
       "      <td>Reg</td>\n",
       "      <td>Corner</td>\n",
       "      <td>OldTown</td>\n",
       "      <td>110000</td>\n",
       "      <td>&lt;150k</td>\n",
       "    </tr>\n",
       "  </tbody>\n",
       "</table>\n",
       "</div>"
      ],
      "text/plain": [
       "   HouseNumber  MSSubClass MSZoning  LotFrontage  LotArea LotShape LotConfig  \\\n",
       "0          1.0        60.0       RL         65.0   8450.0      Reg    Inside   \n",
       "1          2.0        20.0       RL         80.0   9600.0      IR1    Inside   \n",
       "2          3.0        60.0       RL         68.0  11250.0      Reg    Inside   \n",
       "3          4.0        70.0       RL         60.0   9550.0      Reg    Inside   \n",
       "4          5.0        60.0       RL         84.0  14260.0      Reg    Corner   \n",
       "\n",
       "  Neighborhood  SalePrice SalePriceN  \n",
       "0      MeadowV      91000      <150k  \n",
       "1        NAmes     135750      <150k  \n",
       "2      BrkSide     127000      <150k  \n",
       "3       Sawyer     136500      <150k  \n",
       "4      OldTown     110000      <150k  "
      ]
     },
     "execution_count": 3,
     "metadata": {},
     "output_type": "execute_result"
    }
   ],
   "source": [
    "# load dataset\n",
    "df = pd.read_csv('houseprice33.csv', skipinitialspace=True)\n",
    "x_cols = [c for c in df.columns if c != 'SalePriceN']\n",
    "# set input matrix and target column\n",
    "X = df[x_cols]\n",
    "y = df['SalePriceN']\n",
    "# show first rows of data\n",
    "df.head()"
   ]
  },
  {
   "cell_type": "code",
   "execution_count": 4,
   "metadata": {},
   "outputs": [],
   "source": [
    "# data split train / test\n",
    "X_train, X_test, y_train, y_test = train_test_split(X, y, test_size = 0.3, random_state=1234)"
   ]
  },
  {
   "cell_type": "code",
   "execution_count": 5,
   "metadata": {},
   "outputs": [
    {
     "name": "stdout",
     "output_type": "stream",
     "text": [
      "{'HouseNumber': 1.0, 'MSSubClass': 20.0, 'MSZoning': 'RL', 'LotFrontage': 60.0, 'LotArea': 9600.0, 'LotShape': 'Reg', 'LotConfig': 'Inside', 'Neighborhood': 'NAmes', 'SalePrice': 135000.0}\n"
     ]
    }
   ],
   "source": [
    "# fill missing values\n",
    "train_mode = dict(X_train.mode().iloc[0])\n",
    "X_train = X_train.fillna(train_mode)\n",
    "print(train_mode)"
   ]
  },
  {
   "cell_type": "code",
   "execution_count": 6,
   "metadata": {},
   "outputs": [],
   "source": [
    "encoders = {}\n",
    "for column in ['HouseNumber', 'MSSubClass', 'MSZoning',\n",
    "                'LotFrontage', 'LotArea', 'LotShape',\n",
    "                'LotConfig','Neighborhood']:\n",
    "    categorical_convert = LabelEncoder()\n",
    "    X_train[column] = categorical_convert.fit_transform(X_train[column])\n",
    "    encoders[column] = categorical_convert"
   ]
  },
  {
   "cell_type": "code",
   "execution_count": 7,
   "metadata": {},
   "outputs": [],
   "source": [
    "# train the Random Forest algorithm\n",
    "rf = RandomForestClassifier(n_estimators = 100)\n",
    "rf = rf.fit(X_train, y_train)"
   ]
  },
  {
   "cell_type": "code",
   "execution_count": 8,
   "metadata": {},
   "outputs": [],
   "source": [
    "# train the Extra Trees algorithm\n",
    "et = ExtraTreesClassifier(n_estimators = 100)\n",
    "et = et.fit(X_train, y_train)"
   ]
  },
  {
   "cell_type": "code",
   "execution_count": 9,
   "metadata": {},
   "outputs": [
    {
     "data": {
      "text/plain": [
       "['./extra_trees.joblib']"
      ]
     },
     "execution_count": 9,
     "metadata": {},
     "output_type": "execute_result"
    }
   ],
   "source": [
    "# save preprocessing objects and RF algorithm\n",
    "joblib.dump(train_mode, \"./train_mode.joblib\", compress=True)\n",
    "joblib.dump(encoders, \"./encoders.joblib\", compress=True)\n",
    "joblib.dump(rf, \"./random_forest.joblib\", compress=True)\n",
    "joblib.dump(et, \"./extra_trees.joblib\", compress=True)"
   ]
  },
  {
   "cell_type": "code",
   "execution_count": null,
   "metadata": {},
   "outputs": [],
   "source": []
  }
 ],
 "metadata": {
  "kernelspec": {
   "display_name": "Python 3",
   "language": "python",
   "name": "python3"
  },
  "language_info": {
   "codemirror_mode": {
    "name": "ipython",
    "version": 3
   },
   "file_extension": ".py",
   "mimetype": "text/x-python",
   "name": "python",
   "nbconvert_exporter": "python",
   "pygments_lexer": "ipython3",
   "version": "3.7.7"
  }
 },
 "nbformat": 4,
 "nbformat_minor": 2
}
